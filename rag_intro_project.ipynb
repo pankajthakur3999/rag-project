{
 "cells": [
  {
   "cell_type": "code",
   "execution_count": 23,
   "id": "0575896c-917d-408c-8c83-8b2e9a760390",
   "metadata": {},
   "outputs": [],
   "source": [
    "import pandas as pd\n",
    "import minsearch\n",
    "import requests"
   ]
  },
  {
   "cell_type": "markdown",
   "id": "422a2530-f614-4935-9748-570eadfdc5c0",
   "metadata": {},
   "source": [
    "## Ingestion"
   ]
  },
  {
   "cell_type": "code",
   "execution_count": 1,
   "id": "31abd8de-6a7d-4f8f-a7f1-877a8df3f0b9",
   "metadata": {},
   "outputs": [],
   "source": [
    "url = \"https://raw.githubusercontent.com/DataTalksClub/llm-zoomcamp/main/01-intro/minsearch.py\"\n",
    "response = requests.get(url)\n",
    "\n",
    "with open(\"minsearch.py\", \"wb\") as file:\n",
    "    file.write(response.content)"
   ]
  },
  {
   "cell_type": "code",
   "execution_count": 3,
   "id": "6e2db7d4-8777-485a-91b5-fee4287d2bf7",
   "metadata": {},
   "outputs": [],
   "source": [
    "health_df = pd.read_csv(\"healthcare_dataset.csv\",nrows=500)"
   ]
  },
  {
   "cell_type": "code",
   "execution_count": 4,
   "id": "0560e046-3386-4ea3-b735-e21d8ea4b1e2",
   "metadata": {},
   "outputs": [
    {
     "data": {
      "text/html": [
       "<div>\n",
       "<style scoped>\n",
       "    .dataframe tbody tr th:only-of-type {\n",
       "        vertical-align: middle;\n",
       "    }\n",
       "\n",
       "    .dataframe tbody tr th {\n",
       "        vertical-align: top;\n",
       "    }\n",
       "\n",
       "    .dataframe thead th {\n",
       "        text-align: right;\n",
       "    }\n",
       "</style>\n",
       "<table border=\"1\" class=\"dataframe\">\n",
       "  <thead>\n",
       "    <tr style=\"text-align: right;\">\n",
       "      <th></th>\n",
       "      <th>Name</th>\n",
       "      <th>Age</th>\n",
       "      <th>Gender</th>\n",
       "      <th>Blood Type</th>\n",
       "      <th>Medical Condition</th>\n",
       "      <th>Date of Admission</th>\n",
       "      <th>Doctor</th>\n",
       "      <th>Hospital</th>\n",
       "      <th>Insurance Provider</th>\n",
       "      <th>Billing Amount</th>\n",
       "      <th>Room Number</th>\n",
       "      <th>Admission Type</th>\n",
       "      <th>Discharge Date</th>\n",
       "      <th>Medication</th>\n",
       "      <th>Test Results</th>\n",
       "    </tr>\n",
       "  </thead>\n",
       "  <tbody>\n",
       "    <tr>\n",
       "      <th>0</th>\n",
       "      <td>Bobby JacksOn</td>\n",
       "      <td>30</td>\n",
       "      <td>Male</td>\n",
       "      <td>B-</td>\n",
       "      <td>Cancer</td>\n",
       "      <td>2024-01-31</td>\n",
       "      <td>Matthew Smith</td>\n",
       "      <td>Sons and Miller</td>\n",
       "      <td>Blue Cross</td>\n",
       "      <td>18856.281306</td>\n",
       "      <td>328</td>\n",
       "      <td>Urgent</td>\n",
       "      <td>2024-02-02</td>\n",
       "      <td>Paracetamol</td>\n",
       "      <td>Normal</td>\n",
       "    </tr>\n",
       "    <tr>\n",
       "      <th>1</th>\n",
       "      <td>LesLie TErRy</td>\n",
       "      <td>62</td>\n",
       "      <td>Male</td>\n",
       "      <td>A+</td>\n",
       "      <td>Obesity</td>\n",
       "      <td>2019-08-20</td>\n",
       "      <td>Samantha Davies</td>\n",
       "      <td>Kim Inc</td>\n",
       "      <td>Medicare</td>\n",
       "      <td>33643.327287</td>\n",
       "      <td>265</td>\n",
       "      <td>Emergency</td>\n",
       "      <td>2019-08-26</td>\n",
       "      <td>Ibuprofen</td>\n",
       "      <td>Inconclusive</td>\n",
       "    </tr>\n",
       "    <tr>\n",
       "      <th>2</th>\n",
       "      <td>DaNnY sMitH</td>\n",
       "      <td>76</td>\n",
       "      <td>Female</td>\n",
       "      <td>A-</td>\n",
       "      <td>Obesity</td>\n",
       "      <td>2022-09-22</td>\n",
       "      <td>Tiffany Mitchell</td>\n",
       "      <td>Cook PLC</td>\n",
       "      <td>Aetna</td>\n",
       "      <td>27955.096079</td>\n",
       "      <td>205</td>\n",
       "      <td>Emergency</td>\n",
       "      <td>2022-10-07</td>\n",
       "      <td>Aspirin</td>\n",
       "      <td>Normal</td>\n",
       "    </tr>\n",
       "    <tr>\n",
       "      <th>3</th>\n",
       "      <td>andrEw waTtS</td>\n",
       "      <td>28</td>\n",
       "      <td>Female</td>\n",
       "      <td>O+</td>\n",
       "      <td>Diabetes</td>\n",
       "      <td>2020-11-18</td>\n",
       "      <td>Kevin Wells</td>\n",
       "      <td>Hernandez Rogers and Vang,</td>\n",
       "      <td>Medicare</td>\n",
       "      <td>37909.782410</td>\n",
       "      <td>450</td>\n",
       "      <td>Elective</td>\n",
       "      <td>2020-12-18</td>\n",
       "      <td>Ibuprofen</td>\n",
       "      <td>Abnormal</td>\n",
       "    </tr>\n",
       "    <tr>\n",
       "      <th>4</th>\n",
       "      <td>adrIENNE bEll</td>\n",
       "      <td>43</td>\n",
       "      <td>Female</td>\n",
       "      <td>AB+</td>\n",
       "      <td>Cancer</td>\n",
       "      <td>2022-09-19</td>\n",
       "      <td>Kathleen Hanna</td>\n",
       "      <td>White-White</td>\n",
       "      <td>Aetna</td>\n",
       "      <td>14238.317814</td>\n",
       "      <td>458</td>\n",
       "      <td>Urgent</td>\n",
       "      <td>2022-10-09</td>\n",
       "      <td>Penicillin</td>\n",
       "      <td>Abnormal</td>\n",
       "    </tr>\n",
       "    <tr>\n",
       "      <th>...</th>\n",
       "      <td>...</td>\n",
       "      <td>...</td>\n",
       "      <td>...</td>\n",
       "      <td>...</td>\n",
       "      <td>...</td>\n",
       "      <td>...</td>\n",
       "      <td>...</td>\n",
       "      <td>...</td>\n",
       "      <td>...</td>\n",
       "      <td>...</td>\n",
       "      <td>...</td>\n",
       "      <td>...</td>\n",
       "      <td>...</td>\n",
       "      <td>...</td>\n",
       "      <td>...</td>\n",
       "    </tr>\n",
       "    <tr>\n",
       "      <th>495</th>\n",
       "      <td>denNIs cLarkE</td>\n",
       "      <td>22</td>\n",
       "      <td>Female</td>\n",
       "      <td>AB+</td>\n",
       "      <td>Obesity</td>\n",
       "      <td>2019-09-17</td>\n",
       "      <td>Mark Baker</td>\n",
       "      <td>Warren-Brown</td>\n",
       "      <td>Cigna</td>\n",
       "      <td>8033.611655</td>\n",
       "      <td>293</td>\n",
       "      <td>Elective</td>\n",
       "      <td>2019-10-01</td>\n",
       "      <td>Lipitor</td>\n",
       "      <td>Inconclusive</td>\n",
       "    </tr>\n",
       "    <tr>\n",
       "      <th>496</th>\n",
       "      <td>jeNNiFER spEnCe</td>\n",
       "      <td>65</td>\n",
       "      <td>Female</td>\n",
       "      <td>A+</td>\n",
       "      <td>Obesity</td>\n",
       "      <td>2019-05-14</td>\n",
       "      <td>Austin Perry</td>\n",
       "      <td>Ruiz Group</td>\n",
       "      <td>Medicare</td>\n",
       "      <td>7391.534745</td>\n",
       "      <td>270</td>\n",
       "      <td>Elective</td>\n",
       "      <td>2019-05-20</td>\n",
       "      <td>Aspirin</td>\n",
       "      <td>Inconclusive</td>\n",
       "    </tr>\n",
       "    <tr>\n",
       "      <th>497</th>\n",
       "      <td>biLlY fITZGERALd</td>\n",
       "      <td>73</td>\n",
       "      <td>Female</td>\n",
       "      <td>B+</td>\n",
       "      <td>Asthma</td>\n",
       "      <td>2020-05-31</td>\n",
       "      <td>Dr. Mackenzie Bell</td>\n",
       "      <td>Anderson-Brown</td>\n",
       "      <td>Aetna</td>\n",
       "      <td>35945.884474</td>\n",
       "      <td>146</td>\n",
       "      <td>Emergency</td>\n",
       "      <td>2020-06-28</td>\n",
       "      <td>Ibuprofen</td>\n",
       "      <td>Inconclusive</td>\n",
       "    </tr>\n",
       "    <tr>\n",
       "      <th>498</th>\n",
       "      <td>krisTEN JamES</td>\n",
       "      <td>82</td>\n",
       "      <td>Female</td>\n",
       "      <td>AB+</td>\n",
       "      <td>Hypertension</td>\n",
       "      <td>2020-03-27</td>\n",
       "      <td>Kimberly Calhoun</td>\n",
       "      <td>Hull Sons and</td>\n",
       "      <td>Medicare</td>\n",
       "      <td>10780.742008</td>\n",
       "      <td>472</td>\n",
       "      <td>Emergency</td>\n",
       "      <td>2020-04-04</td>\n",
       "      <td>Ibuprofen</td>\n",
       "      <td>Inconclusive</td>\n",
       "    </tr>\n",
       "    <tr>\n",
       "      <th>499</th>\n",
       "      <td>cAiTLIN bEndEr</td>\n",
       "      <td>32</td>\n",
       "      <td>Female</td>\n",
       "      <td>O-</td>\n",
       "      <td>Arthritis</td>\n",
       "      <td>2019-12-23</td>\n",
       "      <td>Timothy Aguilar</td>\n",
       "      <td>Oliver Mcdonald, and Johnson</td>\n",
       "      <td>Aetna</td>\n",
       "      <td>28743.003838</td>\n",
       "      <td>493</td>\n",
       "      <td>Elective</td>\n",
       "      <td>2019-12-30</td>\n",
       "      <td>Penicillin</td>\n",
       "      <td>Normal</td>\n",
       "    </tr>\n",
       "  </tbody>\n",
       "</table>\n",
       "<p>500 rows × 15 columns</p>\n",
       "</div>"
      ],
      "text/plain": [
       "                 Name  Age  Gender Blood Type Medical Condition  \\\n",
       "0       Bobby JacksOn   30    Male         B-            Cancer   \n",
       "1        LesLie TErRy   62    Male         A+           Obesity   \n",
       "2         DaNnY sMitH   76  Female         A-           Obesity   \n",
       "3        andrEw waTtS   28  Female         O+          Diabetes   \n",
       "4       adrIENNE bEll   43  Female        AB+            Cancer   \n",
       "..                ...  ...     ...        ...               ...   \n",
       "495     denNIs cLarkE   22  Female        AB+           Obesity   \n",
       "496   jeNNiFER spEnCe   65  Female         A+           Obesity   \n",
       "497  biLlY fITZGERALd   73  Female         B+            Asthma   \n",
       "498     krisTEN JamES   82  Female        AB+      Hypertension   \n",
       "499    cAiTLIN bEndEr   32  Female         O-         Arthritis   \n",
       "\n",
       "    Date of Admission              Doctor                      Hospital  \\\n",
       "0          2024-01-31       Matthew Smith               Sons and Miller   \n",
       "1          2019-08-20     Samantha Davies                       Kim Inc   \n",
       "2          2022-09-22    Tiffany Mitchell                      Cook PLC   \n",
       "3          2020-11-18         Kevin Wells    Hernandez Rogers and Vang,   \n",
       "4          2022-09-19      Kathleen Hanna                   White-White   \n",
       "..                ...                 ...                           ...   \n",
       "495        2019-09-17          Mark Baker                  Warren-Brown   \n",
       "496        2019-05-14        Austin Perry                    Ruiz Group   \n",
       "497        2020-05-31  Dr. Mackenzie Bell                Anderson-Brown   \n",
       "498        2020-03-27    Kimberly Calhoun                 Hull Sons and   \n",
       "499        2019-12-23     Timothy Aguilar  Oliver Mcdonald, and Johnson   \n",
       "\n",
       "    Insurance Provider  Billing Amount  Room Number Admission Type  \\\n",
       "0           Blue Cross    18856.281306          328         Urgent   \n",
       "1             Medicare    33643.327287          265      Emergency   \n",
       "2                Aetna    27955.096079          205      Emergency   \n",
       "3             Medicare    37909.782410          450       Elective   \n",
       "4                Aetna    14238.317814          458         Urgent   \n",
       "..                 ...             ...          ...            ...   \n",
       "495              Cigna     8033.611655          293       Elective   \n",
       "496           Medicare     7391.534745          270       Elective   \n",
       "497              Aetna    35945.884474          146      Emergency   \n",
       "498           Medicare    10780.742008          472      Emergency   \n",
       "499              Aetna    28743.003838          493       Elective   \n",
       "\n",
       "    Discharge Date   Medication  Test Results  \n",
       "0       2024-02-02  Paracetamol        Normal  \n",
       "1       2019-08-26    Ibuprofen  Inconclusive  \n",
       "2       2022-10-07      Aspirin        Normal  \n",
       "3       2020-12-18    Ibuprofen      Abnormal  \n",
       "4       2022-10-09   Penicillin      Abnormal  \n",
       "..             ...          ...           ...  \n",
       "495     2019-10-01      Lipitor  Inconclusive  \n",
       "496     2019-05-20      Aspirin  Inconclusive  \n",
       "497     2020-06-28    Ibuprofen  Inconclusive  \n",
       "498     2020-04-04    Ibuprofen  Inconclusive  \n",
       "499     2019-12-30   Penicillin        Normal  \n",
       "\n",
       "[500 rows x 15 columns]"
      ]
     },
     "execution_count": 4,
     "metadata": {},
     "output_type": "execute_result"
    }
   ],
   "source": [
    "health_df"
   ]
  },
  {
   "cell_type": "code",
   "execution_count": 5,
   "id": "46aabe10-6344-4287-a01f-a0c4cd6b931c",
   "metadata": {},
   "outputs": [],
   "source": [
    "health_df.columns = health_df.columns.str.lower().str.replace(' ','_')\n",
    "# Convert specific columns to strings if needed\n",
    "health_df['age'] = health_df['age'].astype(str)\n",
    "health_df['billing_amount'] = health_df['billing_amount'].astype(str)\n",
    "health_df['room_number'] = health_df['room_number'].astype(str)"
   ]
  },
  {
   "cell_type": "code",
   "execution_count": 6,
   "id": "de5434a6-6cdd-4aae-aef6-a10cc2fe20a1",
   "metadata": {},
   "outputs": [],
   "source": [
    "documents = health_df.to_dict(orient='records')"
   ]
  },
  {
   "cell_type": "code",
   "execution_count": 24,
   "id": "8ed8bf80-3531-4b09-8567-1340ceb79715",
   "metadata": {},
   "outputs": [
    {
     "data": {
      "text/plain": [
       "{'name': 'Bobby JacksOn',\n",
       " 'age': '30',\n",
       " 'gender': 'Male',\n",
       " 'blood_type': 'B-',\n",
       " 'medical_condition': 'Cancer',\n",
       " 'date_of_admission': '2024-01-31',\n",
       " 'doctor': 'Matthew Smith',\n",
       " 'hospital': 'Sons and Miller',\n",
       " 'insurance_provider': 'Blue Cross',\n",
       " 'billing_amount': '18856.281305978155',\n",
       " 'room_number': '328',\n",
       " 'admission_type': 'Urgent',\n",
       " 'discharge_date': '2024-02-02',\n",
       " 'medication': 'Paracetamol',\n",
       " 'test_results': 'Normal'}"
      ]
     },
     "execution_count": 24,
     "metadata": {},
     "output_type": "execute_result"
    }
   ],
   "source": [
    "documents[0]"
   ]
  },
  {
   "cell_type": "code",
   "execution_count": 8,
   "id": "f743cee4-5110-413c-9213-80d3d77a8139",
   "metadata": {},
   "outputs": [
    {
     "data": {
      "text/plain": [
       "Index(['name', 'age', 'gender', 'blood_type', 'medical_condition',\n",
       "       'date_of_admission', 'doctor', 'hospital', 'insurance_provider',\n",
       "       'billing_amount', 'room_number', 'admission_type', 'discharge_date',\n",
       "       'medication', 'test_results'],\n",
       "      dtype='object')"
      ]
     },
     "execution_count": 8,
     "metadata": {},
     "output_type": "execute_result"
    }
   ],
   "source": [
    "health_df.columns"
   ]
  },
  {
   "cell_type": "code",
   "execution_count": 9,
   "id": "1319cf2f-8a76-4141-a3b1-5c62e9e2dd96",
   "metadata": {},
   "outputs": [],
   "source": [
    "index = minsearch.Index(\n",
    "    text_fields=['age', 'gender', 'blood_type', 'medical_condition',\n",
    "       'date_of_admission', 'doctor', 'hospital', 'insurance_provider',\n",
    "       'billing_amount', 'room_number', 'admission_type', 'discharge_date',\n",
    "       'medication', 'test_results'],\n",
    "    keyword_fields=[]\n",
    ")"
   ]
  },
  {
   "cell_type": "code",
   "execution_count": 11,
   "id": "234701cf-ccc3-48a3-a072-403ed0999a1f",
   "metadata": {},
   "outputs": [
    {
     "data": {
      "text/plain": [
       "<minsearch.Index at 0x77cb14f61850>"
      ]
     },
     "execution_count": 11,
     "metadata": {},
     "output_type": "execute_result"
    }
   ],
   "source": [
    "index.fit(documents)"
   ]
  },
  {
   "cell_type": "markdown",
   "id": "d7bba285-754e-4345-a547-ecce4491d7b5",
   "metadata": {},
   "source": [
    "## RAG Flow"
   ]
  },
  {
   "cell_type": "code",
   "execution_count": 12,
   "id": "ac97cc79-cf37-42ce-89e7-299b71e8a7db",
   "metadata": {},
   "outputs": [],
   "source": [
    "def search(query):\n",
    "    boost = {}\n",
    "\n",
    "    results = index.search(\n",
    "        query=query,\n",
    "        filter_dict={},\n",
    "        boost_dict=boost,\n",
    "        num_results=5\n",
    "    )\n",
    "\n",
    "    return results"
   ]
  },
  {
   "cell_type": "code",
   "execution_count": 13,
   "id": "db9d8224-b0c8-4495-8dbd-0c9cb70b492f",
   "metadata": {},
   "outputs": [],
   "source": [
    "prompt_template = \"\"\"\n",
    "You're a healthcare data analyzer. Answer the QUESTION based on the CONTEXT from our exercises database.\n",
    "Use only the facts from the CONTEXT when answering the QUESTION.\n",
    "\n",
    "QUESTION: {question}\n",
    "\n",
    "CONTEXT:\n",
    "{context}\n",
    "\"\"\".strip()\n",
    "\n",
    "entry_template = \"\"\"\n",
    "age: {age}\n",
    "gender: {gender}\n",
    "blood_type: {blood_type}\n",
    "medical_condition: {medical_condition}\n",
    "insurance_provider: {insurance_provider}\n",
    "billing_amount: {billing_amount}\n",
    "test_results: {test_results}\n",
    "\"\"\".strip()\n",
    "\n",
    "def build_prompt(query, search):\n",
    "    context = \"\"\n",
    "    \n",
    "    for doc in search:\n",
    "        context = context + entry_template.format(**doc) + \"\\n\\n\"\n",
    "\n",
    "    prompt = prompt_template.format(question=query, context=context).strip()\n",
    "    return prompt"
   ]
  },
  {
   "cell_type": "code",
   "execution_count": 14,
   "id": "cc58daca-3d5c-4ca0-85ec-1c377de553e5",
   "metadata": {},
   "outputs": [],
   "source": [
    "def llm(prompt):\n",
    "    response = client.chat.completions.create(\n",
    "        model='phi3',\n",
    "        messages=[{\"role\": \"user\", \"content\": prompt}]\n",
    "    )\n",
    "    \n",
    "    return response.choices[0].message.content"
   ]
  },
  {
   "cell_type": "code",
   "execution_count": 15,
   "id": "663520aa-8f41-40ad-8c2d-15f849df9519",
   "metadata": {},
   "outputs": [],
   "source": [
    "def rag(query):\n",
    "    search_results = search(query)\n",
    "    prompt = build_prompt(query, search_results)\n",
    "    answer = llm(prompt)\n",
    "    return answer"
   ]
  },
  {
   "cell_type": "code",
   "execution_count": 16,
   "id": "5fdde3dc-1c1f-4029-858d-3ed318839f91",
   "metadata": {},
   "outputs": [],
   "source": [
    "from openai import OpenAI\n",
    "\n",
    "client = OpenAI(\n",
    "    base_url='http://localhost:11434/v1/',\n",
    "    api_key='ollama',\n",
    ")"
   ]
  },
  {
   "cell_type": "code",
   "execution_count": 20,
   "id": "e3766d2f-aa3e-4d4f-a322-37338fa30844",
   "metadata": {},
   "outputs": [],
   "source": [
    "query = 'Number of medical_condition having Normal test_results'"
   ]
  },
  {
   "cell_type": "code",
   "execution_count": 21,
   "id": "a0d9a1b3-b2ee-4fa1-ad85-c88226b9eada",
   "metadata": {},
   "outputs": [
    {
     "data": {
      "text/plain": [
       "'Three patients with the medical condition \"Normal test results\" in our database are all females, do not have cancer as their primary medical condition and include a patient having blood type A+ from UnitedHealthcare. The specific ages of these individuals range between 18 to 76 years old.'"
      ]
     },
     "execution_count": 21,
     "metadata": {},
     "output_type": "execute_result"
    }
   ],
   "source": [
    "rag(query)"
   ]
  },
  {
   "cell_type": "code",
   "execution_count": 22,
   "id": "528fa454-c6e5-4ae0-8792-df7f14984bf2",
   "metadata": {},
   "outputs": [
    {
     "name": "stdout",
     "output_type": "stream",
     "text": [
      "Three patients with the medical condition \"Normal test results\" in our database are all females, do not have cancer as their primary medical condition and include a patient having blood type A+ from UnitedHealthcare. The specific ages of these individuals range between 18 to 76 years old.\n"
     ]
    }
   ],
   "source": [
    "print(_)"
   ]
  },
  {
   "cell_type": "markdown",
   "id": "23afdba4-cd46-4fa2-aa94-3a5ad117829f",
   "metadata": {},
   "source": [
    "## Retrieval evaluation"
   ]
  },
  {
   "cell_type": "code",
   "execution_count": null,
   "id": "b5df5bf2-04d0-4174-9bd0-32387a59f78d",
   "metadata": {},
   "outputs": [],
   "source": []
  }
 ],
 "metadata": {
  "kernelspec": {
   "display_name": "Python 3 (ipykernel)",
   "language": "python",
   "name": "python3"
  },
  "language_info": {
   "codemirror_mode": {
    "name": "ipython",
    "version": 3
   },
   "file_extension": ".py",
   "mimetype": "text/x-python",
   "name": "python",
   "nbconvert_exporter": "python",
   "pygments_lexer": "ipython3",
   "version": "3.12.1"
  }
 },
 "nbformat": 4,
 "nbformat_minor": 5
}
